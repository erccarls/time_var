{
 "metadata": {
  "name": ""
 },
 "nbformat": 3,
 "nbformat_minor": 0,
 "worksheets": [
  {
   "cells": [
    {
     "cell_type": "code",
     "collapsed": false,
     "input": [
      "from BGTools import BGTools\n",
      "from BGTools_cython import BGTools as BGTC\n",
      "#%load_ext autoreload\n",
      "%autoreload 2\n",
      "\n",
      "diff_f = '/home/carlson/fermitools/refdata/fermi/galdiffuse/gll_iem_v05.fits'\n",
      "iso_f  = '/home/carlson/fermitools/refdata/fermi/galdiffuse/isotrop_4years_P7_v9_repro_clean_v1.txt'\n",
      "BG = BGTools(1.3e5,1.5e5,4*3.15e7,diff_f,iso_f)\n",
      "BGC = BGTC(1.3e5,1.5e5,4*3.15e7,diff_f,iso_f)\n",
      "\n",
      "#nMin=np.zeros(shape=(180,360))\n",
      "#%time for i in range(-180,180):    nMin[:,i+180]=BG.GetBG(i*np.ones(180),np.linspace(-90,90,180))\n",
      "\n",
      "#plt.figure(0,figsize=(15,10))\n",
      "#plt.imshow(np.log(nMin),extent=[-180,180,-90,90],origin='lower')\n",
      "\n",
      "\n",
      "#nMin=np.zeros(shape=(360,720))\n",
      "#time for i in range(-360,360):nMin[:,(i+360)]=BG.GetIntegratedBG(0/2.*np.ones(360),np.linspace(-80,80,360), A=.1, B=.1)       \n",
      "\n",
      "\n",
      "    \n",
      "#plt.figure(0,figsize=(15,10))\n",
      "#plt.imshow(np.log(nMin),extent=[-180,180,-90,90],origin='lower')\n",
      "\n",
      "delta = []\n",
      "#bg,ss,si = [],[],[]\n",
      "r1=range(0,360,1)\n",
      "r2=range(-90,90,1)\n",
      "bg,ss,si = np.zeros((3,len(r1)*len(r2)))\n",
      "cnt=0\n",
      "for i in r1:\n",
      "    for j in r2:\n",
      "        continue\n",
      "        bg[cnt]=BG.GetIntegratedBG(i,j, A=1, B=1)\n",
      "        ss[cnt]=BG.GetBG(i,j)*np.pi\n",
      "        si[cnt]=BG.SubsampleBG(i,j,eps=1)*np.pi\n",
      "        cnt+=1\n",
      "        \n",
      "bins=np.logspace(-2,1,50)\n",
      "bg, si, ss = np.array(bg),np.array(si),np.array(ss)\n",
      "#plt.hist(bg,bins,histtype='step')  \n",
      "#plt.hist(((bg-ss)/bg),bins,histtype='step',label='Subsample',normed=True)\n",
      "#plt.hist(((bg-si)/si),bins,histtype='step',label='Center Sample',normed=True)\n",
      "#plt.xscale('log')\n",
      "#plt.legend()\n",
      "#plt.show()\n",
      "\n",
      "a = np.ones(10000).astype(int)\n",
      " \n",
      "#%timeit rate = BGC.GetIntegratedBG(a,a,a,a)\n",
      "#%timeit rate = BG.GetIntegratedBG(a,a,a,a)\n",
      "#%timeit BG.GetBG(np.ones(10000),np.ones(10000))*3.14\n",
      "#%timeit BG.SubsampleBG(np.ones(10000),np.ones(10000),eps=1)*3.14\n",
      "\n",
      "\n",
      "\n",
      "((a,a,a))"
     ],
     "language": "python",
     "metadata": {},
     "outputs": [
      {
       "output_type": "stream",
       "stream": "stderr",
       "text": [
        "ERROR: Line magic function `%autoreload` not found.\n"
       ]
      },
      {
       "metadata": {},
       "output_type": "pyout",
       "prompt_number": 5,
       "text": [
        "3"
       ]
      }
     ],
     "prompt_number": 5
    },
    {
     "cell_type": "code",
     "collapsed": false,
     "input": [
      "m = np.reshape(np.arange(25),(5,5))\n",
      "print m[np.array((0,1,2))][:,np.array((1,2,3))]\n",
      "\n",
      "a = np.arange(10)\n",
      "#%timeit idx=np.arange(6,12)%5\n",
      "#%timeit idx=np.array(range(6,12))%5\n",
      "b = a[-2:2]\n",
      "print b\n",
      "#print a[idx]\n",
      "\n",
      "# timeit np.roll(BG.BGMap,2)\n",
      "\n",
      "#plt.imshow(np.log(np.roll(BG.BGMap,0)))\n",
      "np.shape(np.array(4))\n"
     ],
     "language": "python",
     "metadata": {},
     "outputs": [
      {
       "output_type": "stream",
       "stream": "stdout",
       "text": [
        "[[ 1  2  3]\n",
        " [ 6  7  8]\n",
        " [11 12 13]]\n",
        "[]\n"
       ]
      },
      {
       "metadata": {},
       "output_type": "pyout",
       "prompt_number": 146,
       "text": [
        "()"
       ]
      }
     ],
     "prompt_number": 146
    },
    {
     "cell_type": "code",
     "collapsed": false,
     "input": [
      "hdulist = pyfits.open('/home/carlson/fermitools/refdata/fermi/galdiffuse/gll_iem_v05.fits', mode='update')\n",
      "scidata = hdulist[0].data\n",
      "\n",
      "\n",
      "plt.imshow(scidata[0],cmap='jet')\n",
      "plt.show()\n",
      "plt.plot(scidata[0,:,1500])\n",
      "\n",
      "hdulist = pyfits.open('/home/carlson/fermitools/refdata/fermi/galdiffuse/isotropic_allsky.fits', mode='update')\n",
      "hdulist.info()\n",
      "scidata = hdulist[0].data\n",
      "plt.imshow(scidata)\n",
      "\n",
      "    "
     ],
     "language": "python",
     "metadata": {},
     "outputs": [
      {
       "ename": "SyntaxError",
       "evalue": "invalid syntax (<ipython-input-57-e647ce13daba>, line 9)",
       "output_type": "pyerr",
       "traceback": [
        "\u001b[1;36m  File \u001b[1;32m\"<ipython-input-57-e647ce13daba>\"\u001b[1;36m, line \u001b[1;32m9\u001b[0m\n\u001b[1;33m    hdulist = pyfits.op)en('/home/carlson/fermitools/refdata/fermi/galdiffuse/isotropic_allsky.fits', mode='update')\u001b[0m\n\u001b[1;37m                       ^\u001b[0m\n\u001b[1;31mSyntaxError\u001b[0m\u001b[1;31m:\u001b[0m invalid syntax\n"
       ]
      }
     ],
     "prompt_number": 57
    },
    {
     "cell_type": "code",
     "collapsed": false,
     "input": [
      "import ParseFermi as pf\n",
      "import powerlaw\n",
      "\n",
      "#energies = np.logspace(np.log10(50),np.log10(6e5),31)\n",
      "#energies = [np.mean(energies[i:i+2]) for i in range(len(energies)-1)]\n",
      "#print np.array(energies)\n",
      "\n",
      "def from_data(eh,el):\n",
      "    E,L,B,T = pf.LoadEvents('/data/gtobssim_data/diffuse_4yr_v1/diffuse_4yr_events_0004.fits',elow=eh,ehigh=el)\n",
      "    time = (np.max(T)-np.min(T))\n",
      "    return len(L)/41250./time*3.15e7\n",
      "    \n",
      "    val,bins= np.histogram(E,bins=np.logspace(np.log10(50),np.log10(6e5),31))\n",
      "    val = val/float(time)/41250.\n",
      "    \n",
      "    f = open('BG_Norm.dat','wb')\n",
      "    for v in val:\n",
      "        f.write(str(v) + '\\n')\n",
      "    f.close()\n",
      "    #pickle.dump('BG_Norm.dat') # output cnts/s/deg^2 for each energy\n",
      "    \n",
      "    #dnde=[float(val[i])/(bins[i+1]-bins[i]) for i in range(len(val))]\n",
      "    #print np.log(dnde[11]/dnde[20])/np.log(bins[11]/bins[20])\n",
      "\n",
      "\n",
      "def compute_ratio(ei,ef,eh,el):\n",
      "    return (ef**-1.5-ei**-1.5)/(eh**-1.5-el**-1.5)\n"
     ],
     "language": "python",
     "metadata": {},
     "outputs": [],
     "prompt_number": 251
    },
    {
     "cell_type": "code",
     "collapsed": false,
     "input": [
      "e = np.logspace(np.log10(1e3),np.log10(6e5),25)\n",
      "m1 = [Prep_Data(e[i],e[i+1]) for i in range(len(e)-1)]\n",
      "m2 = [from_data(e[i],e[i+1]) for i in range(len(e)-1)]\n",
      "\n",
      "\n",
      "\n",
      "\n"
     ],
     "language": "python",
     "metadata": {},
     "outputs": [
      {
       "output_type": "stream",
       "stream": "stdout",
       "text": [
        "Seems like your energies are out of range. Should be 50 MeV to 600 GeV in units MeV\n"
       ]
      }
     ],
     "prompt_number": 252
    },
    {
     "cell_type": "code",
     "collapsed": false,
     "input": [
      "plt.plot(e[:-1],m1,label='bgmodel')\n",
      "plt.plot(e[:-1],m2,label='data')\n",
      "\n",
      "mult = np.ones(len(m1))# np.divide(m2,m1)\n",
      "#mult = np.divide(m2,m1)\n",
      "res = np.divide(np.subtract(np.multiply(m1,mult),m2),m2)\n",
      "#plt.plot(e[:-1],res)\n",
      "#plt.legend()\n",
      "plt.yscale('log')\n",
      "#plt.ylim(-.2,.2)\n",
      "plt.xscale('log')\n",
      "plt.show()\n",
      "print list(e[:-1])\n",
      "print list(mult)\n",
      "print res\n"
     ],
     "language": "python",
     "metadata": {},
     "outputs": [
      {
       "metadata": {},
       "output_type": "display_data",
       "png": "[encoded data removed]",
       "text": [
        "<matplotlib.figure.Figure at 0x5110090>"
       ]
      },
      {
       "output_type": "stream",
       "stream": "stdout",
       "text": [
        "[1000.0, 1305.4381553305827, 1704.1687773929129, 2224.6869451317789, 2904.1912218408588, 3791.2420313671978, 4949.2320038397665, 6460.9162973956618, 8434.3266530174915, 11010.491827370721, 14373.516140405278, 18763.736395945005, 24494.897427831787, 31976.573713200531, 41743.439401952863, 54493.478530039363, 71137.866089801231, 92866.084682424043, 121230.93028059744, 158259.48199451345, 206597.966238491, 269700.867941426, 352077.8035365119, 459615.79838154698]\n",
        "[1.0, 1.0, 1.0, 1.0, 1.0, 1.0, 1.0, 1.0, 1.0, 1.0, 1.0, 1.0, 1.0, 1.0, 1.0, 1.0, 1.0, 1.0, 1.0, 1.0, 1.0, 1.0, 1.0, 1.0]\n",
        "[ 0.04857585  0.0405656   0.01251845  0.01616937  0.00236915 -0.00571144\n",
        "  0.01009438 -0.00544394  0.00667253 -0.01683396  0.01851613  0.01541754\n",
        "  0.0430321   0.03222339  0.01842525  0.09543188  0.05492004  0.07206702\n",
        " -0.07063568 -0.11421468 -0.03248991 -0.19120902 -0.22781823  0.25755458]\n"
       ]
      }
     ],
     "prompt_number": 253
    },
    {
     "cell_type": "code",
     "collapsed": false,
     "input": [
      "np.array([1,0])+np.array([2,1])"
     ],
     "language": "python",
     "metadata": {},
     "outputs": [
      {
       "metadata": {},
       "output_type": "pyout",
       "prompt_number": 3,
       "text": [
        "array([3, 1])"
       ]
      }
     ],
     "prompt_number": 3
    },
    {
     "cell_type": "code",
     "collapsed": false,
     "input": [],
     "language": "python",
     "metadata": {},
     "outputs": []
    }
   ],
   "metadata": {}
  }
 ]
}